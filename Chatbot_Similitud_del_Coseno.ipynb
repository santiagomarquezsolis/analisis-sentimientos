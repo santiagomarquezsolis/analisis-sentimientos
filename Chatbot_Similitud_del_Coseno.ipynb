{
  "cells": [
    {
      "cell_type": "markdown",
      "metadata": {
        "id": "view-in-github",
        "colab_type": "text"
      },
      "source": [
        "<a href=\"https://colab.research.google.com/github/santiagomarquezsolis/analisis-sentimientos/blob/main/Chatbot_Similitud_del_Coseno.ipynb\" target=\"_parent\"><img src=\"https://colab.research.google.com/assets/colab-badge.svg\" alt=\"Open In Colab\"/></a>"
      ]
    },
    {
      "cell_type": "code",
      "execution_count": null,
      "metadata": {
        "colab": {
          "base_uri": "https://localhost:8080/"
        },
        "id": "BC3eXRi-Y1_G",
        "outputId": "7c46d40e-8d8c-4e10-db59-b3dc97668e7a"
      },
      "outputs": [
        {
          "name": "stdout",
          "output_type": "stream",
          "text": [
            "Looking in indexes: https://pypi.org/simple, https://us-python.pkg.dev/colab-wheels/public/simple/\n",
            "Requirement already satisfied: nltk in /usr/local/lib/python3.10/dist-packages (3.8.1)\n",
            "Requirement already satisfied: scikit-learn in /usr/local/lib/python3.10/dist-packages (1.2.2)\n",
            "Requirement already satisfied: tqdm in /usr/local/lib/python3.10/dist-packages (from nltk) (4.65.0)\n",
            "Requirement already satisfied: click in /usr/local/lib/python3.10/dist-packages (from nltk) (8.1.3)\n",
            "Requirement already satisfied: joblib in /usr/local/lib/python3.10/dist-packages (from nltk) (1.2.0)\n",
            "Requirement already satisfied: regex>=2021.8.3 in /usr/local/lib/python3.10/dist-packages (from nltk) (2022.10.31)\n",
            "Requirement already satisfied: scipy>=1.3.2 in /usr/local/lib/python3.10/dist-packages (from scikit-learn) (1.10.1)\n",
            "Requirement already satisfied: threadpoolctl>=2.0.0 in /usr/local/lib/python3.10/dist-packages (from scikit-learn) (3.1.0)\n",
            "Requirement already satisfied: numpy>=1.17.3 in /usr/local/lib/python3.10/dist-packages (from scikit-learn) (1.22.4)\n"
          ]
        },
        {
          "name": "stderr",
          "output_type": "stream",
          "text": [
            "[nltk_data] Downloading package punkt to /root/nltk_data...\n",
            "[nltk_data]   Package punkt is already up-to-date!\n",
            "[nltk_data] Downloading package wordnet to /root/nltk_data...\n",
            "[nltk_data]   Package wordnet is already up-to-date!\n"
          ]
        },
        {
          "data": {
            "text/plain": [
              "True"
            ]
          },
          "execution_count": 1,
          "metadata": {},
          "output_type": "execute_result"
        }
      ],
      "source": [
        "!pip install nltk scikit-learn\n",
        "\n",
        "import nltk\n",
        "import numpy as np\n",
        "import string\n",
        "\n",
        "from sklearn.feature_extraction.text import TfidfVectorizer\n",
        "from sklearn.metrics.pairwise import cosine_similarity\n",
        "\n",
        "nltk.download('punkt')\n",
        "nltk.download('wordnet')\n",
        "\n"
      ]
    },
    {
      "cell_type": "code",
      "execution_count": null,
      "metadata": {
        "id": "9t8n1T6Neh7b"
      },
      "outputs": [],
      "source": [
        "data = {\n",
        "    \"hola\": \"¡Hola! ¿En qué puedo ayudarte?\",\n",
        "    \"buenos días\": \"Buenos días. ¿En qué puedo ayudarte hoy?\",\n",
        "    \"buenas tardes\": \"Buenas tardes. ¿Cómo puedo asistirte?\",\n",
        "    \"buenas noches\": \"Buenas noches. ¿Hay algo en lo que pueda ayudarte?\",\n",
        "    \"¿qué tal?\": \"Estoy bien, gracias por preguntar. ¿En qué puedo ayudarte?\",\n",
        "    \"¿cómo estás?\": \"Estoy funcionando correctamente. ¿En qué puedo ayudarte?\",\n",
        "    \"¿cómo te va?\": \"Todo va bien. ¿Necesitas información o asistencia?\",\n",
        "    \"hola, ¿cómo estás?\": \"¡Hola! Estoy bien, gracias por preguntar. ¿En qué puedo ayudarte?\",\n",
        "}\n",
        "\n",
        "additional_data = {\n",
        "    \"hola, ¿qué tal?\": \"¡Hola! Estoy bien, gracias por preguntar. ¿En qué puedo ayudarte?\",\n",
        "    \"hey\": \"¡Hey! ¿Necesitas ayuda con algo?\",\n",
        "    \"saludos\": \"Saludos. ¿Hay algo en lo que pueda ayudarte?\",\n",
        "    \"hola, buenos días\": \"Hola, buenos días. ¿En qué puedo asistirte hoy?\",\n",
        "    \"hola, buenas tardes\": \"Hola, buenas tardes. ¿Cómo puedo ayudarte?\",\n",
        "    \"hola, buenas noches\": \"Hola, buenas noches. ¿Necesitas información o asistencia?\",\n",
        "    \"buen día\": \"Buen día. ¿En qué puedo ayudarte?\",\n",
        "    \"¿cómo te encuentras?\": \"Me encuentro funcionando correctamente. ¿En qué puedo asistirte?\",\n",
        "    \"aló\": \"¡Aló! ¿En qué puedo ayudarte hoy?\",\n",
        "    \"¿cómo va todo?\": \"Todo va bien, gracias. ¿Hay algo en lo que pueda ayudarte?\",\n",
        "}\n",
        "\n",
        "# Combina los dos diccionarios de saludos\n",
        "data.update(additional_data)\n",
        "\n",
        "questions = list(data.keys())\n",
        "answers = list(data.values())\n"
      ]
    },
    {
      "cell_type": "code",
      "execution_count": null,
      "metadata": {
        "id": "f7Ayk3xxektW"
      },
      "outputs": [],
      "source": [
        "lemmer = nltk.stem.WordNetLemmatizer()\n",
        "\n",
        "def LemTokens(tokens):\n",
        "    return [lemmer.lemmatize(token) for token in tokens]\n",
        "\n",
        "remove_punct_dict = dict((ord(punct), None) for punct in string.punctuation)\n",
        "\n",
        "def LemNormalize(text):\n",
        "    return LemTokens(nltk.word_tokenize(text.lower().translate(remove_punct_dict)))\n"
      ]
    },
    {
      "cell_type": "code",
      "execution_count": null,
      "metadata": {
        "id": "C5FlfAa_emum"
      },
      "outputs": [],
      "source": [
        "def response(user_input):\n",
        "    chatbot_response = ''\n",
        "\n",
        "    TfidfVec = TfidfVectorizer(tokenizer=LemNormalize, stop_words='english')\n",
        "    tfidf = TfidfVec.fit_transform(questions + [user_input])\n",
        "    vals = cosine_similarity(tfidf[-1], tfidf[:-1])\n",
        "    idx = vals.argsort()[0][-1]\n",
        "    similarity = vals[0][idx]\n",
        "\n",
        "    if similarity == 0:\n",
        "        chatbot_response += \"Lo siento, no entiendo tu pregunta.\"\n",
        "    else:\n",
        "        chatbot_response += answers[idx]\n",
        "\n",
        "    return chatbot_response\n",
        "\n"
      ]
    },
    {
      "cell_type": "code",
      "execution_count": null,
      "metadata": {
        "id": "ilzJgt9yevQG"
      },
      "outputs": [],
      "source": [
        "def chatbot():\n",
        "    print(\"Chatbot: Hola, ¿en qué puedo ayudarte? Si deseas salir, escribe 'salir'.\")\n",
        "\n",
        "    while True:\n",
        "        user_input = input(\"Tú: \")\n",
        "        user_input = user_input.lower()\n",
        "        \n",
        "        if user_input == 'salir':\n",
        "            print(\"Chatbot: ¡Adiós! Que tengas un buen día.\")\n",
        "            break\n",
        "        else:\n",
        "            print(\"Chatbot: \", response(user_input))\n"
      ]
    },
    {
      "cell_type": "code",
      "execution_count": null,
      "metadata": {
        "colab": {
          "background_save": true,
          "base_uri": "https://localhost:8080/"
        },
        "id": "aBp-R3sDexAE",
        "outputId": "40cdc8eb-cbce-4db2-d59a-8bc1b0ff47ab"
      },
      "outputs": [
        {
          "name": "stdout",
          "output_type": "stream",
          "text": [
            "Chatbot: Hola, ¿en qué puedo ayudarte? Si deseas salir, escribe 'salir'.\n"
          ]
        },
        {
          "name": "stderr",
          "output_type": "stream",
          "text": [
            "/usr/local/lib/python3.10/dist-packages/sklearn/feature_extraction/text.py:528: UserWarning: The parameter 'token_pattern' will not be used since 'tokenizer' is not None'\n",
            "  warnings.warn(\n",
            "/usr/local/lib/python3.10/dist-packages/sklearn/feature_extraction/text.py:409: UserWarning: Your stop_words may be inconsistent with your preprocessing. Tokenizing the stop words generated tokens ['ha', 'le', 'u', 'wa'] not in stop_words.\n",
            "  warnings.warn(\n"
          ]
        },
        {
          "name": "stdout",
          "output_type": "stream",
          "text": [
            "Chatbot:  ¡Hola! ¿En qué puedo ayudarte?\n",
            "Chatbot:  Lo siento, no entiendo tu pregunta.\n",
            "Chatbot:  Lo siento, no entiendo tu pregunta.\n",
            "Chatbot:  Lo siento, no entiendo tu pregunta.\n",
            "Chatbot:  Estoy funcionando correctamente. ¿En qué puedo ayudarte?\n",
            "Chatbot:  Lo siento, no entiendo tu pregunta.\n",
            "Chatbot:  Todo va bien. ¿Necesitas información o asistencia?\n",
            "Chatbot:  Lo siento, no entiendo tu pregunta.\n"
          ]
        }
      ],
      "source": [
        "if __name__ == \"__main__\":\n",
        "    chatbot()\n"
      ]
    },
    {
      "cell_type": "code",
      "execution_count": null,
      "metadata": {
        "id": "0_CPLrzQezW7"
      },
      "outputs": [],
      "source": []
    }
  ],
  "metadata": {
    "colab": {
      "provenance": [],
      "authorship_tag": "ABX9TyP8Z3Z1tWnaaie1dXSr2QYc",
      "include_colab_link": true
    },
    "kernelspec": {
      "display_name": "Python 3",
      "name": "python3"
    },
    "language_info": {
      "name": "python"
    }
  },
  "nbformat": 4,
  "nbformat_minor": 0
}